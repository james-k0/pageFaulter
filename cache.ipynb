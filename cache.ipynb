{
 "cells": [
  {
   "metadata": {},
   "cell_type": "code",
   "source": [
    "def page_replacement(page_references, num_frames, mode):\n",
    "    def lru(pages, frames):\n",
    "        page_faults = 0\n",
    "        frames_list = [-1] * num_frames\n",
    "        page_map = {}\n",
    "        time = 0\n",
    "\n",
    "        result_frames = [[] for _ in range(num_frames)]\n",
    "\n",
    "        for page in pages:\n",
    "            if page not in frames_list:\n",
    "                page_faults += 1\n",
    "                if -1 in frames_list:\n",
    "                    idx = frames_list.index(-1)\n",
    "                else:\n",
    "                    lru_page = min(page_map, key=page_map.get)\n",
    "                    idx = frames_list.index(lru_page)\n",
    "                    del page_map[lru_page]\n",
    "                frames_list[idx] = page\n",
    "            page_map[page] = time\n",
    "            time += 1\n",
    "            for i in range(num_frames):\n",
    "                result_frames[i].append(frames_list[i])\n",
    "\n",
    "        return page_faults, result_frames\n",
    "\n",
    "    def optimal(pages, frames):\n",
    "        page_faults = 0\n",
    "        frames_list = [-1] * num_frames\n",
    "\n",
    "        result_frames = [[] for _ in range(num_frames)]\n",
    "\n",
    "        for i, page in enumerate(pages):\n",
    "            if page not in frames_list:\n",
    "                page_faults += 1\n",
    "                if -1 in frames_list:\n",
    "                    idx = frames_list.index(-1)\n",
    "                else:\n",
    "                    future_indices = [float('inf')] * num_frames\n",
    "                    for j in range(num_frames):\n",
    "                        if frames_list[j] in pages[i + 1:]:\n",
    "                            future_indices[j] = pages[i + 1:].index(frames_list[j])\n",
    "                    idx = future_indices.index(max(future_indices))\n",
    "                frames_list[idx] = page\n",
    "            for k in range(num_frames):\n",
    "                result_frames[k].append(frames_list[k])\n",
    "\n",
    "        return page_faults, result_frames\n",
    "\n",
    "    def fifo(pages, frames):\n",
    "        page_faults = 0\n",
    "        frames_list = [-1] * num_frames\n",
    "        queue = []\n",
    "\n",
    "        result_frames = [[] for _ in range(num_frames)]\n",
    "\n",
    "        for page in pages:\n",
    "            if page not in frames_list:\n",
    "                page_faults += 1\n",
    "                if len(queue) < num_frames:\n",
    "                    queue.append(page)\n",
    "                    frames_list[queue.index(page)] = page\n",
    "                else:\n",
    "                    oldest_page = queue.pop(0)\n",
    "                    idx = frames_list.index(oldest_page)\n",
    "                    frames_list[idx] = page\n",
    "                    queue.append(page)\n",
    "            for l in range(num_frames):\n",
    "                result_frames[l].append(frames_list[l])\n",
    "\n",
    "        return page_faults, result_frames\n",
    "\n",
    "    if mode == 'LRU':\n",
    "        return lru(page_references, num_frames)\n",
    "    elif mode == 'Optimal':\n",
    "        return optimal(page_references, num_frames)\n",
    "    elif mode == 'FIFO':\n",
    "        return fifo(page_references, num_frames)\n",
    "    else:\n",
    "        raise ValueError(\"Invalid mode. Choose 'LRU', 'Optimal', or 'FIFO'.\")"
   ],
   "id": "29f0d218baf66e59",
   "outputs": [],
   "execution_count": null
  },
  {
   "metadata": {},
   "cell_type": "code",
   "source": [
    "page_references = [1,2,3,4,2,1,5,6,2,1,2,3,7,6,3,2,1,2,3,6]\n",
    "num_frames = 4\n",
    "mode = 'Optimal'\n",
    "\n",
    "page_faults, frames_state = page_replacement(page_references, num_frames, mode)\n",
    "print(\"Page Faults:\", page_faults)\n",
    "print(\"Frames State:\")\n",
    "for i, frame in enumerate(frames_state):\n",
    "    print(f\"Frame {i+1}: {frame}\")"
   ],
   "id": "a97a06cb1c4eb52c",
   "outputs": [],
   "execution_count": null
  },
  {
   "metadata": {
    "ExecuteTime": {
     "end_time": "2024-05-20T08:49:38.843118Z",
     "start_time": "2024-05-20T08:49:35.922830Z"
    }
   },
   "cell_type": "code",
   "source": "!jupyter nbconvert --to script cache.ipynb",
   "id": "d1ffc6a7716fe02d",
   "outputs": [
    {
     "name": "stderr",
     "output_type": "stream",
     "text": [
      "[NbConvertApp] Converting notebook cache.ipynb to script\n",
      "[NbConvertApp] Writing 3267 bytes to cache.py\n"
     ]
    }
   ],
   "execution_count": 1
  },
  {
   "metadata": {},
   "cell_type": "code",
   "outputs": [],
   "execution_count": null,
   "source": "",
   "id": "9ed77f0124eda23f"
  }
 ],
 "metadata": {
  "kernelspec": {
   "display_name": "Python 3",
   "language": "python",
   "name": "python3"
  },
  "language_info": {
   "codemirror_mode": {
    "name": "ipython",
    "version": 2
   },
   "file_extension": ".py",
   "mimetype": "text/x-python",
   "name": "python",
   "nbconvert_exporter": "python",
   "pygments_lexer": "ipython2",
   "version": "2.7.6"
  }
 },
 "nbformat": 4,
 "nbformat_minor": 5
}
